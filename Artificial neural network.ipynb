{
 "cells": [
  {
   "cell_type": "code",
   "execution_count": 1,
   "metadata": {},
   "outputs": [],
   "source": [
    "import numpy as np\n",
    "import pandas as pd\n",
    "import tensorflow as tf"
   ]
  },
  {
   "cell_type": "code",
   "execution_count": 2,
   "metadata": {},
   "outputs": [],
   "source": [
    "dataset=pd.read_csv(\"Churn_Modelling.csv\",header=0)"
   ]
  },
  {
   "cell_type": "code",
   "execution_count": 3,
   "metadata": {},
   "outputs": [],
   "source": [
    "x=dataset.iloc[:,3:-1].values\n",
    "y=dataset.iloc[:,-1].values"
   ]
  },
  {
   "cell_type": "code",
   "execution_count": 4,
   "metadata": {},
   "outputs": [
    {
     "name": "stdout",
     "output_type": "stream",
     "text": [
      "[[619 'France' 'Female' ... 1 1 101348.88]\n",
      " [608 'Spain' 'Female' ... 0 1 112542.58]\n",
      " [502 'France' 'Female' ... 1 0 113931.57]\n",
      " ...\n",
      " [709 'France' 'Female' ... 0 1 42085.58]\n",
      " [772 'Germany' 'Male' ... 1 0 92888.52]\n",
      " [792 'France' 'Female' ... 1 0 38190.78]]\n"
     ]
    }
   ],
   "source": [
    "print(x)"
   ]
  },
  {
   "cell_type": "code",
   "execution_count": 5,
   "metadata": {},
   "outputs": [
    {
     "name": "stdout",
     "output_type": "stream",
     "text": [
      "[1 0 1 ... 1 1 0]\n"
     ]
    }
   ],
   "source": [
    "print(y)"
   ]
  },
  {
   "cell_type": "markdown",
   "metadata": {},
   "source": [
    "encoding categorical data"
   ]
  },
  {
   "cell_type": "code",
   "execution_count": 6,
   "metadata": {},
   "outputs": [],
   "source": [
    "from sklearn.preprocessing import LabelEncoder\n",
    "le=LabelEncoder()\n",
    "x[:,2]=le.fit_transform(x[:,2])"
   ]
  },
  {
   "cell_type": "code",
   "execution_count": 7,
   "metadata": {},
   "outputs": [
    {
     "name": "stdout",
     "output_type": "stream",
     "text": [
      "[[619 'France' 0 ... 1 1 101348.88]\n",
      " [608 'Spain' 0 ... 0 1 112542.58]\n",
      " [502 'France' 0 ... 1 0 113931.57]\n",
      " ...\n",
      " [709 'France' 0 ... 0 1 42085.58]\n",
      " [772 'Germany' 1 ... 1 0 92888.52]\n",
      " [792 'France' 0 ... 1 0 38190.78]]\n"
     ]
    }
   ],
   "source": [
    "print(x)"
   ]
  },
  {
   "cell_type": "markdown",
   "metadata": {},
   "source": [
    "one hot encoding"
   ]
  },
  {
   "cell_type": "code",
   "execution_count": 8,
   "metadata": {},
   "outputs": [],
   "source": [
    "from sklearn.preprocessing import OneHotEncoder\n",
    "from sklearn.compose import ColumnTransformer\n",
    "ct=ColumnTransformer(transformers=[('encoder',OneHotEncoder(),[1])],remainder='passthrough')\n",
    "x=np.array(ct.fit_transform(x))"
   ]
  },
  {
   "cell_type": "code",
   "execution_count": 9,
   "metadata": {},
   "outputs": [
    {
     "name": "stdout",
     "output_type": "stream",
     "text": [
      "[[1.0 0.0 0.0 ... 1 1 101348.88]\n",
      " [0.0 0.0 1.0 ... 0 1 112542.58]\n",
      " [1.0 0.0 0.0 ... 1 0 113931.57]\n",
      " ...\n",
      " [1.0 0.0 0.0 ... 0 1 42085.58]\n",
      " [0.0 1.0 0.0 ... 1 0 92888.52]\n",
      " [1.0 0.0 0.0 ... 1 0 38190.78]]\n"
     ]
    }
   ],
   "source": [
    "print(x)"
   ]
  },
  {
   "cell_type": "code",
   "execution_count": 10,
   "metadata": {},
   "outputs": [],
   "source": [
    "from sklearn.model_selection import train_test_split\n",
    "x_train,x_test,y_train,y_test=train_test_split(x,y,test_size=0.2,random_state=0)"
   ]
  },
  {
   "cell_type": "code",
   "execution_count": 11,
   "metadata": {},
   "outputs": [],
   "source": [
    "from sklearn.preprocessing import StandardScaler\n",
    "sc=StandardScaler()\n",
    "x_train=sc.fit_transform(x_train)\n",
    "x_test=sc.fit_transform(x_test)"
   ]
  },
  {
   "cell_type": "markdown",
   "metadata": {},
   "source": [
    "building ANN"
   ]
  },
  {
   "cell_type": "markdown",
   "metadata": {},
   "source": [
    "intializing ANN"
   ]
  },
  {
   "cell_type": "code",
   "execution_count": 12,
   "metadata": {},
   "outputs": [],
   "source": [
    "ann=tf.keras.models.Sequential()"
   ]
  },
  {
   "cell_type": "markdown",
   "metadata": {},
   "source": [
    "adding the input layer and the first hidden layer\n"
   ]
  },
  {
   "cell_type": "code",
   "execution_count": 13,
   "metadata": {},
   "outputs": [],
   "source": [
    "ann.add(tf.keras.layers.Dense(units=6,activation='relu'))"
   ]
  },
  {
   "cell_type": "markdown",
   "metadata": {},
   "source": [
    "adding the second hidden layer"
   ]
  },
  {
   "cell_type": "code",
   "execution_count": 14,
   "metadata": {},
   "outputs": [],
   "source": [
    "ann.add(tf.keras.layers.Dense(units=6,activation='relu'))"
   ]
  },
  {
   "cell_type": "markdown",
   "metadata": {},
   "source": [
    "adding the output layer"
   ]
  },
  {
   "cell_type": "code",
   "execution_count": 15,
   "metadata": {},
   "outputs": [],
   "source": [
    "ann.add(tf.keras.layers.Dense(units=1,activation='sigmoid'))"
   ]
  },
  {
   "cell_type": "markdown",
   "metadata": {},
   "source": [
    "training the ANN\n"
   ]
  },
  {
   "cell_type": "markdown",
   "metadata": {},
   "source": [
    "compiling the ANN"
   ]
  },
  {
   "cell_type": "code",
   "execution_count": 16,
   "metadata": {},
   "outputs": [],
   "source": [
    "ann.compile(optimizer='adam',loss='binary_crossentropy',metrics=['accuracy'])"
   ]
  },
  {
   "cell_type": "markdown",
   "metadata": {},
   "source": [
    "train the ANN"
   ]
  },
  {
   "cell_type": "code",
   "execution_count": 17,
   "metadata": {},
   "outputs": [
    {
     "name": "stdout",
     "output_type": "stream",
     "text": [
      "Epoch 1/100\n",
      "250/250 [==============================] - 1s 1ms/step - loss: 0.5978 - accuracy: 0.7426\n",
      "Epoch 2/100\n",
      "250/250 [==============================] - 0s 596us/step - loss: 0.4802 - accuracy: 0.7960\n",
      "Epoch 3/100\n",
      "250/250 [==============================] - 0s 534us/step - loss: 0.4459 - accuracy: 0.7969\n",
      "Epoch 4/100\n",
      "250/250 [==============================] - 0s 554us/step - loss: 0.4321 - accuracy: 0.8064\n",
      "Epoch 5/100\n",
      "250/250 [==============================] - 0s 559us/step - loss: 0.4245 - accuracy: 0.8129\n",
      "Epoch 6/100\n",
      "250/250 [==============================] - 0s 584us/step - loss: 0.4194 - accuracy: 0.8185\n",
      "Epoch 7/100\n",
      "250/250 [==============================] - 0s 639us/step - loss: 0.4152 - accuracy: 0.8229\n",
      "Epoch 8/100\n",
      "250/250 [==============================] - 0s 671us/step - loss: 0.4114 - accuracy: 0.8257\n",
      "Epoch 9/100\n",
      "250/250 [==============================] - 0s 713us/step - loss: 0.4081 - accuracy: 0.8289\n",
      "Epoch 10/100\n",
      "250/250 [==============================] - 0s 542us/step - loss: 0.4054 - accuracy: 0.8307\n",
      "Epoch 11/100\n",
      "250/250 [==============================] - 0s 552us/step - loss: 0.4030 - accuracy: 0.8331\n",
      "Epoch 12/100\n",
      "250/250 [==============================] - 0s 562us/step - loss: 0.4002 - accuracy: 0.8342\n",
      "Epoch 13/100\n",
      "250/250 [==============================] - 0s 553us/step - loss: 0.3974 - accuracy: 0.8345\n",
      "Epoch 14/100\n",
      "250/250 [==============================] - 0s 583us/step - loss: 0.3943 - accuracy: 0.8374\n",
      "Epoch 15/100\n",
      "250/250 [==============================] - 0s 529us/step - loss: 0.3907 - accuracy: 0.8379\n",
      "Epoch 16/100\n",
      "250/250 [==============================] - 0s 631us/step - loss: 0.3865 - accuracy: 0.8391\n",
      "Epoch 17/100\n",
      "250/250 [==============================] - 0s 655us/step - loss: 0.3807 - accuracy: 0.8418\n",
      "Epoch 18/100\n",
      "250/250 [==============================] - 0s 537us/step - loss: 0.3741 - accuracy: 0.8450\n",
      "Epoch 19/100\n",
      "250/250 [==============================] - 0s 555us/step - loss: 0.3676 - accuracy: 0.8461\n",
      "Epoch 20/100\n",
      "250/250 [==============================] - 0s 549us/step - loss: 0.3622 - accuracy: 0.8475\n",
      "Epoch 21/100\n",
      "250/250 [==============================] - 0s 577us/step - loss: 0.3570 - accuracy: 0.8511\n",
      "Epoch 22/100\n",
      "250/250 [==============================] - 0s 535us/step - loss: 0.3532 - accuracy: 0.8530\n",
      "Epoch 23/100\n",
      "250/250 [==============================] - 0s 572us/step - loss: 0.3497 - accuracy: 0.8568\n",
      "Epoch 24/100\n",
      "250/250 [==============================] - 0s 651us/step - loss: 0.3470 - accuracy: 0.8576\n",
      "Epoch 25/100\n",
      "250/250 [==============================] - 0s 653us/step - loss: 0.3444 - accuracy: 0.8583\n",
      "Epoch 26/100\n",
      "250/250 [==============================] - 0s 559us/step - loss: 0.3429 - accuracy: 0.8584\n",
      "Epoch 27/100\n",
      "250/250 [==============================] - 0s 558us/step - loss: 0.3419 - accuracy: 0.8591\n",
      "Epoch 28/100\n",
      "250/250 [==============================] - 0s 553us/step - loss: 0.3405 - accuracy: 0.8610\n",
      "Epoch 29/100\n",
      "250/250 [==============================] - 0s 548us/step - loss: 0.3389 - accuracy: 0.8620\n",
      "Epoch 30/100\n",
      "250/250 [==============================] - 0s 559us/step - loss: 0.3381 - accuracy: 0.8631\n",
      "Epoch 31/100\n",
      "250/250 [==============================] - 0s 533us/step - loss: 0.3376 - accuracy: 0.8631\n",
      "Epoch 32/100\n",
      "250/250 [==============================] - 0s 613us/step - loss: 0.3367 - accuracy: 0.8620\n",
      "Epoch 33/100\n",
      "250/250 [==============================] - 0s 668us/step - loss: 0.3364 - accuracy: 0.8627\n",
      "Epoch 34/100\n",
      "250/250 [==============================] - 0s 563us/step - loss: 0.3359 - accuracy: 0.8631\n",
      "Epoch 35/100\n",
      "250/250 [==============================] - 0s 563us/step - loss: 0.3356 - accuracy: 0.8633\n",
      "Epoch 36/100\n",
      "250/250 [==============================] - 0s 533us/step - loss: 0.3354 - accuracy: 0.8629\n",
      "Epoch 37/100\n",
      "250/250 [==============================] - 0s 560us/step - loss: 0.3349 - accuracy: 0.8652\n",
      "Epoch 38/100\n",
      "250/250 [==============================] - 0s 543us/step - loss: 0.3348 - accuracy: 0.8631\n",
      "Epoch 39/100\n",
      "250/250 [==============================] - 0s 548us/step - loss: 0.3345 - accuracy: 0.8645\n",
      "Epoch 40/100\n",
      "250/250 [==============================] - 0s 647us/step - loss: 0.3344 - accuracy: 0.8636\n",
      "Epoch 41/100\n",
      "250/250 [==============================] - 0s 653us/step - loss: 0.3341 - accuracy: 0.8630\n",
      "Epoch 42/100\n",
      "250/250 [==============================] - 0s 554us/step - loss: 0.3338 - accuracy: 0.8643\n",
      "Epoch 43/100\n",
      "250/250 [==============================] - 0s 551us/step - loss: 0.3336 - accuracy: 0.8644\n",
      "Epoch 44/100\n",
      "250/250 [==============================] - 0s 544us/step - loss: 0.3333 - accuracy: 0.8636\n",
      "Epoch 45/100\n",
      "250/250 [==============================] - 0s 548us/step - loss: 0.3334 - accuracy: 0.8633\n",
      "Epoch 46/100\n",
      "250/250 [==============================] - 0s 561us/step - loss: 0.3330 - accuracy: 0.8637\n",
      "Epoch 47/100\n",
      "250/250 [==============================] - 0s 560us/step - loss: 0.3331 - accuracy: 0.8637\n",
      "Epoch 48/100\n",
      "250/250 [==============================] - 0s 589us/step - loss: 0.3324 - accuracy: 0.8644\n",
      "Epoch 49/100\n",
      "250/250 [==============================] - 0s 718us/step - loss: 0.3331 - accuracy: 0.8643\n",
      "Epoch 50/100\n",
      "250/250 [==============================] - 0s 632us/step - loss: 0.3324 - accuracy: 0.8645\n",
      "Epoch 51/100\n",
      "250/250 [==============================] - 0s 647us/step - loss: 0.3322 - accuracy: 0.8654\n",
      "Epoch 52/100\n",
      "250/250 [==============================] - 0s 625us/step - loss: 0.3322 - accuracy: 0.8644\n",
      "Epoch 53/100\n",
      "250/250 [==============================] - 0s 656us/step - loss: 0.3321 - accuracy: 0.8644\n",
      "Epoch 54/100\n",
      "250/250 [==============================] - 0s 573us/step - loss: 0.3318 - accuracy: 0.8635\n",
      "Epoch 55/100\n",
      "250/250 [==============================] - 0s 547us/step - loss: 0.3317 - accuracy: 0.8649\n",
      "Epoch 56/100\n",
      "250/250 [==============================] - 0s 919us/step - loss: 0.3318 - accuracy: 0.8651\n",
      "Epoch 57/100\n",
      "250/250 [==============================] - 0s 598us/step - loss: 0.3314 - accuracy: 0.8639\n",
      "Epoch 58/100\n",
      "250/250 [==============================] - 0s 575us/step - loss: 0.3317 - accuracy: 0.8650\n",
      "Epoch 59/100\n",
      "250/250 [==============================] - 0s 578us/step - loss: 0.3314 - accuracy: 0.8634\n",
      "Epoch 60/100\n",
      "250/250 [==============================] - 0s 540us/step - loss: 0.3315 - accuracy: 0.8634\n",
      "Epoch 61/100\n",
      "250/250 [==============================] - 0s 549us/step - loss: 0.3311 - accuracy: 0.8641\n",
      "Epoch 62/100\n",
      "250/250 [==============================] - 0s 610us/step - loss: 0.3312 - accuracy: 0.8649\n",
      "Epoch 63/100\n",
      "250/250 [==============================] - 0s 632us/step - loss: 0.3310 - accuracy: 0.8645\n",
      "Epoch 64/100\n",
      "250/250 [==============================] - 0s 709us/step - loss: 0.3311 - accuracy: 0.8640\n",
      "Epoch 65/100\n",
      "250/250 [==============================] - 0s 548us/step - loss: 0.3307 - accuracy: 0.8643\n",
      "Epoch 66/100\n",
      "250/250 [==============================] - 0s 556us/step - loss: 0.3311 - accuracy: 0.8643\n",
      "Epoch 67/100\n",
      "250/250 [==============================] - 0s 573us/step - loss: 0.3308 - accuracy: 0.8648\n",
      "Epoch 68/100\n",
      "250/250 [==============================] - 0s 550us/step - loss: 0.3306 - accuracy: 0.8648\n",
      "Epoch 69/100\n",
      "250/250 [==============================] - 0s 573us/step - loss: 0.3310 - accuracy: 0.8644\n",
      "Epoch 70/100\n",
      "250/250 [==============================] - 0s 545us/step - loss: 0.3307 - accuracy: 0.8654\n",
      "Epoch 71/100\n",
      "250/250 [==============================] - 0s 697us/step - loss: 0.3306 - accuracy: 0.8654\n",
      "Epoch 72/100\n",
      "250/250 [==============================] - 0s 667us/step - loss: 0.3306 - accuracy: 0.8641\n",
      "Epoch 73/100\n",
      "250/250 [==============================] - 0s 553us/step - loss: 0.3306 - accuracy: 0.8648\n",
      "Epoch 74/100\n",
      "250/250 [==============================] - 0s 553us/step - loss: 0.3304 - accuracy: 0.8637\n",
      "Epoch 75/100\n",
      "250/250 [==============================] - 0s 557us/step - loss: 0.3303 - accuracy: 0.8645\n",
      "Epoch 76/100\n",
      "250/250 [==============================] - 0s 585us/step - loss: 0.3304 - accuracy: 0.8648\n",
      "Epoch 77/100\n",
      "250/250 [==============================] - 0s 600us/step - loss: 0.3305 - accuracy: 0.8639\n",
      "Epoch 78/100\n",
      "250/250 [==============================] - 0s 602us/step - loss: 0.3302 - accuracy: 0.8641\n",
      "Epoch 79/100\n",
      "250/250 [==============================] - 0s 775us/step - loss: 0.3303 - accuracy: 0.8650\n",
      "Epoch 80/100\n",
      "250/250 [==============================] - 0s 563us/step - loss: 0.3303 - accuracy: 0.8646\n",
      "Epoch 81/100\n",
      "250/250 [==============================] - 0s 582us/step - loss: 0.3299 - accuracy: 0.8643\n",
      "Epoch 82/100\n",
      "250/250 [==============================] - 0s 577us/step - loss: 0.3302 - accuracy: 0.8646\n",
      "Epoch 83/100\n",
      "250/250 [==============================] - 0s 588us/step - loss: 0.3298 - accuracy: 0.8648\n",
      "Epoch 84/100\n",
      "250/250 [==============================] - 0s 580us/step - loss: 0.3302 - accuracy: 0.8645\n",
      "Epoch 85/100\n",
      "250/250 [==============================] - 0s 591us/step - loss: 0.3301 - accuracy: 0.8652\n",
      "Epoch 86/100\n",
      "250/250 [==============================] - 0s 579us/step - loss: 0.3300 - accuracy: 0.8644\n",
      "Epoch 87/100\n",
      "250/250 [==============================] - 0s 799us/step - loss: 0.3302 - accuracy: 0.8652\n",
      "Epoch 88/100\n",
      "250/250 [==============================] - 0s 567us/step - loss: 0.3300 - accuracy: 0.8645\n",
      "Epoch 89/100\n",
      "250/250 [==============================] - 0s 577us/step - loss: 0.3301 - accuracy: 0.8641\n",
      "Epoch 90/100\n",
      "250/250 [==============================] - 0s 567us/step - loss: 0.3298 - accuracy: 0.8633\n",
      "Epoch 91/100\n",
      "250/250 [==============================] - 0s 606us/step - loss: 0.3299 - accuracy: 0.8639\n",
      "Epoch 92/100\n",
      "250/250 [==============================] - 0s 562us/step - loss: 0.3299 - accuracy: 0.8649\n",
      "Epoch 93/100\n",
      "250/250 [==============================] - 0s 552us/step - loss: 0.3299 - accuracy: 0.8635\n",
      "Epoch 94/100\n",
      "250/250 [==============================] - 0s 582us/step - loss: 0.3299 - accuracy: 0.8631\n",
      "Epoch 95/100\n",
      "250/250 [==============================] - 0s 777us/step - loss: 0.3299 - accuracy: 0.8641\n",
      "Epoch 96/100\n",
      "250/250 [==============================] - 0s 570us/step - loss: 0.3297 - accuracy: 0.8648\n",
      "Epoch 97/100\n",
      "250/250 [==============================] - 0s 577us/step - loss: 0.3299 - accuracy: 0.8646\n",
      "Epoch 98/100\n",
      "250/250 [==============================] - 0s 577us/step - loss: 0.3297 - accuracy: 0.8645\n",
      "Epoch 99/100\n",
      "250/250 [==============================] - 0s 566us/step - loss: 0.3296 - accuracy: 0.8648\n",
      "Epoch 100/100\n",
      "250/250 [==============================] - 0s 561us/step - loss: 0.3297 - accuracy: 0.8644\n"
     ]
    },
    {
     "data": {
      "text/plain": [
       "<tensorflow.python.keras.callbacks.History at 0x20996da2f40>"
      ]
     },
     "execution_count": 17,
     "metadata": {},
     "output_type": "execute_result"
    }
   ],
   "source": [
    "ann.fit(x_train,y_train,batch_size=32,epochs=100)"
   ]
  },
  {
   "cell_type": "markdown",
   "metadata": {},
   "source": [
    "making the prediction and evaluating the model"
   ]
  },
  {
   "cell_type": "code",
   "execution_count": 19,
   "metadata": {},
   "outputs": [
    {
     "name": "stdout",
     "output_type": "stream",
     "text": [
      "[[False]]\n"
     ]
    }
   ],
   "source": [
    "print(ann.predict(sc.transform([[1,0,0,600,1,40,3,60000,2,1,1,50000]]))>0.5)"
   ]
  },
  {
   "cell_type": "markdown",
   "metadata": {},
   "source": [
    "predicting the test set results"
   ]
  },
  {
   "cell_type": "code",
   "execution_count": 20,
   "metadata": {},
   "outputs": [
    {
     "name": "stdout",
     "output_type": "stream",
     "text": [
      "[[0 0]\n",
      " [0 1]\n",
      " [0 0]\n",
      " ...\n",
      " [0 0]\n",
      " [0 0]\n",
      " [0 0]]\n"
     ]
    }
   ],
   "source": [
    "y_pred=ann.predict(x_test)\n",
    "y_pred=(y_pred>0.5)\n",
    "print(np.concatenate((y_pred.reshape(len(y_pred),1),y_test.reshape(len(y_test),1)),1))"
   ]
  },
  {
   "cell_type": "code",
   "execution_count": 21,
   "metadata": {},
   "outputs": [
    {
     "name": "stdout",
     "output_type": "stream",
     "text": [
      "[[1529   66]\n",
      " [ 198  207]]\n"
     ]
    },
    {
     "data": {
      "text/plain": [
       "0.868"
      ]
     },
     "execution_count": 21,
     "metadata": {},
     "output_type": "execute_result"
    }
   ],
   "source": [
    "from sklearn.metrics import confusion_matrix,accuracy_score\n",
    "cm=confusion_matrix(y_test,y_pred)\n",
    "print(cm)\n",
    "accuracy_score(y_test,y_pred)"
   ]
  },
  {
   "cell_type": "code",
   "execution_count": null,
   "metadata": {},
   "outputs": [],
   "source": []
  }
 ],
 "metadata": {
  "kernelspec": {
   "display_name": "Python 3",
   "language": "python",
   "name": "python3"
  },
  "language_info": {
   "codemirror_mode": {
    "name": "ipython",
    "version": 3
   },
   "file_extension": ".py",
   "mimetype": "text/x-python",
   "name": "python",
   "nbconvert_exporter": "python",
   "pygments_lexer": "ipython3",
   "version": "3.8.3"
  }
 },
 "nbformat": 4,
 "nbformat_minor": 4
}
